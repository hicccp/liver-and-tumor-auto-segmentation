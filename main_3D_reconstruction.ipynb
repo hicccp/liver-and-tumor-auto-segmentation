{
 "cells": [
  {
   "cell_type": "markdown",
   "metadata": {},
   "source": [
    "**本代码的作用：**\n",
    "\n",
    "    1、读取医学格式的T1AC原图，预处理；\n",
    "        1、偏置场校正（可选）\n",
    "        2、提取前景,然后剔除黑框\n",
    "            1)自动阈值分割\n",
    "            2)连通域分析,取出过小的连通域\n",
    "            3)剔除纯背景的黑框\n",
    "        3、用0和99.8百分位来归一化灰度值\n",
    "        4、将3D图分为一系列的2D slice\n",
    "    2、用模型前向推理获取肝脏、肿瘤预测掩膜\n",
    "        先用2D liver模型前向推理每一张slice中的肝脏\n",
    "        再用3D tumour模型前向推理肿瘤\n",
    "    3、合成3D的mask\n",
    "    4、后处理过滤虚假分割\n",
    "    5、将mask生存nrrd文件，达到能在3D Slicer中和原图一起打开的效果。"
   ]
  },
  {
   "cell_type": "code",
   "execution_count": 1,
   "metadata": {},
   "outputs": [
    {
     "name": "stderr",
     "output_type": "stream",
     "text": [
      "Missing colon in file PosixPath('/usr/local/lib/python3.8/dist-packages/matplotlib/mpl-data/matplotlibrc'), line 267 ('im')\n",
      "Missing colon in file '/usr/local/lib/python3.8/dist-packages/matplotlib/mpl-data/matplotlibrc', line 267 ('im')\n"
     ]
    }
   ],
   "source": [
    "import numpy as np\n",
    "from glob import glob\n",
    "from tqdm import tqdm\n",
    "import os\n",
    "import pandas as pd\n",
    "import SimpleITK as sitk\n",
    "from skimage import transform\n",
    "from collections import Counter\n",
    "import matplotlib.pyplot as plt\n",
    "from tensorflow.keras.utils import to_categorical\n",
    "import skimage\n",
    "from torchvision.utils import make_grid\n",
    "import cv2\n",
    "import torch\n",
    "from utils import * \n",
    "import warnings\n",
    "\n",
    "import sys\n",
    "sys.path.append('../utils')\n",
    "from util import *\n",
    "\n",
    "os.environ['CUDA_VISIBLE_DEVICES'] = '6,7'"
   ]
  },
  {
   "cell_type": "code",
   "execution_count": 2,
   "metadata": {},
   "outputs": [],
   "source": [
    "# get liver seg model\n",
    "model_path = os.path.join(\"../../model/DeepLab_t1AC_liver\", 'best_model.pth')\n",
    "model_liver = get_model(model_path)\n",
    "model_liver = model_liver.cuda()\n",
    "# get lesion seg model\n",
    "# model_path = os.path.join(\"../model/NestedUNet_t1AC_lesion\", 'best_model.pth')\n",
    "model_path = os.path.join(\"../../model/Nested_3DUNet_t1AC_lesion\", 'best_model.pth')\n",
    "model_lesion = get_model(model_path)\n",
    "model_lesion = model_lesion.cuda()"
   ]
  },
  {
   "cell_type": "code",
   "execution_count": 3,
   "metadata": {},
   "outputs": [
    {
     "name": "stderr",
     "output_type": "stream",
     "text": [
      "  0%|          | 0/5 [00:00<?, ?it/s]"
     ]
    },
    {
     "name": "stdout",
     "output_type": "stream",
     "text": [
      ">> 0000506023-a\n",
      "Size before resampling:  (512, 512, 88)\n",
      "Size after resampling:  (380, 380, 176)\n",
      "shape before crop:  (380, 380, 176)\n",
      "shape after crop:  (238, 300, 176)\n",
      "getting mask_liver_3D\n"
     ]
    },
    {
     "name": "stderr",
     "output_type": "stream",
     "text": [
      "/usr/local/lib/python3.8/dist-packages/torch/nn/functional.py:718: UserWarning: Named tensors and all their associated APIs are an experimental feature and subject to change. Please do not use them for anything important until they are released as stable. (Triggered internally at  /pytorch/c10/core/TensorImpl.h:1156.)\n",
      "  return torch.max_pool2d(input, kernel_size, stride, padding, dilation, ceil_mode)\n"
     ]
    },
    {
     "name": "stdout",
     "output_type": "stream",
     "text": [
      "post-process for predicted liver mask\n",
      "getting mask_lesion_3D\n",
      "post process lesion mask\n",
      "save as nrrd file\n",
      "Segment0_Extent 63 269 107 255 3 165\n",
      "Segment1_Extent 95 216 120 246 35 144\n",
      "Size after resampling:  (512, 512, 88)\n"
     ]
    },
    {
     "name": "stderr",
     "output_type": "stream",
     "text": [
      " 20%|██        | 1/5 [00:29<01:57, 29.37s/it]"
     ]
    },
    {
     "name": "stdout",
     "output_type": "stream",
     "text": [
      ">> 10564157-a\n",
      "Size before resampling:  (512, 512, 96)\n",
      "Size after resampling:  (400, 400, 192)\n",
      "shape before crop:  (400, 400, 192)\n",
      "shape after crop:  (318, 339, 191)\n",
      "getting mask_liver_3D\n",
      "post-process for predicted liver mask\n",
      "getting mask_lesion_3D\n",
      "post process lesion mask\n",
      "save as nrrd file\n",
      "Segment0_Extent 65 231 113 280 20 171\n",
      "Segment1_Extent 73 147 139 279 33 153\n",
      "Size after resampling:  (512, 512, 96)\n"
     ]
    },
    {
     "name": "stderr",
     "output_type": "stream",
     "text": [
      " 40%|████      | 2/5 [01:05<01:34, 31.34s/it]"
     ]
    },
    {
     "name": "stdout",
     "output_type": "stream",
     "text": [
      ">> 10571337-a\n",
      "Size before resampling:  (456, 273, 92)\n",
      "Size after resampling:  (400, 240, 184)\n",
      "shape before crop:  (240, 400, 184)\n",
      "shape after crop:  (208, 281, 183)\n",
      "getting mask_liver_3D\n",
      "post-process for predicted liver mask\n",
      "getting mask_lesion_3D\n",
      "post process lesion mask\n",
      "save as nrrd file\n"
     ]
    },
    {
     "name": "stderr",
     "output_type": "stream",
     "text": [
      " 60%|██████    | 3/5 [01:26<00:56, 28.19s/it]"
     ]
    },
    {
     "name": "stdout",
     "output_type": "stream",
     "text": [
      "Segment0_Extent 63 246 37 181 57 173\n",
      "Segment1_Extent 102 172 59 130 105 136\n",
      "Size after resampling:  (456, 273, 92)\n",
      ">> 10553469-a\n",
      "Size before resampling:  (480, 322, 92)\n",
      "Size after resampling:  (380, 255, 184)\n",
      "shape before crop:  (255, 380, 184)\n",
      "shape after crop:  (236, 329, 183)\n",
      "getting mask_liver_3D\n",
      "post-process for predicted liver mask\n",
      "getting mask_lesion_3D\n",
      "post process lesion mask\n",
      "save as nrrd file\n",
      "Segment0_Extent 55 258 37 213 17 182\n",
      "Segment1_Extent 90 216 123 146 66 137\n",
      "Size after resampling:  (480, 322, 92)\n"
     ]
    },
    {
     "name": "stderr",
     "output_type": "stream",
     "text": [
      " 80%|████████  | 4/5 [01:58<00:29, 29.50s/it]"
     ]
    },
    {
     "name": "stdout",
     "output_type": "stream",
     "text": [
      ">> 0000496938-a\n",
      "Size before resampling:  (320, 200, 72)\n",
      "Size after resampling:  (420, 262, 180)\n",
      "shape before crop:  (262, 420, 180)\n",
      "shape after crop:  (228, 309, 179)\n",
      "getting mask_liver_3D\n",
      "post-process for predicted liver mask\n",
      "getting mask_lesion_3D\n",
      "post process lesion mask\n",
      "save as nrrd file\n"
     ]
    },
    {
     "name": "stderr",
     "output_type": "stream",
     "text": [
      "100%|██████████| 5/5 [02:25<00:00, 29.20s/it]"
     ]
    },
    {
     "name": "stdout",
     "output_type": "stream",
     "text": [
      "Segment0_Extent 74 285 45 205 24 167\n",
      "Segment1_Extent 110 137 74 177 101 151\n",
      "Size after resampling:  (320, 200, 72)\n"
     ]
    },
    {
     "name": "stderr",
     "output_type": "stream",
     "text": [
      "\n"
     ]
    }
   ],
   "source": [
    "source_dir = \"../../data/for_auto_label/002-test\"\n",
    "save_path = \"../../data/for_auto_label/002-test-auto-label\"\n",
    "# 读取AC.nrrd\n",
    "# pat = os.path.join(source_dir,\"*/AC\",\"correct_AC.nii\")\n",
    "pat = os.path.join( r\"../../data/V3/image_mask/a/*/AC\",\"AC.nrrd\" )\n",
    "filepath_list = glob(pat)\n",
    "newspacing = [1.0, 1.0, 1.0]\n",
    "for filepath in tqdm(filepath_list):#[4:]\n",
    "    # get sample_name\n",
    "    sample_name = filepath.split('/')[-3]\n",
    "    print(\">>\",sample_name)\n",
    "    \n",
    "    # read image\n",
    "    image_sitk = sitk.ReadImage(filepath)\n",
    "    oldsize = image_sitk.GetSize()\n",
    "    \n",
    "    # resample/rescale( by sitk )\n",
    "    print(\"Size before resampling: \",oldsize)\n",
    "    if newspacing is not None:\n",
    "        image_sitk = resample_image3D(image_sitk,newspacing,method='Linear')\n",
    "        print(\"Size after resampling: \",image_sitk.GetSize())\n",
    "        \n",
    "    # get array of image\n",
    "    image_array = sitk.GetArrayFromImage(image_sitk).transpose((1,2,0))\n",
    "    # get preprocessed image array\n",
    "    image,(hmin, hmax, wmin, wmax, dmin, dmax),(lower,upper) = preprocess_for_inference(image_array)\n",
    "    \n",
    "    # get predicted liver mask\n",
    "    print(\"getting mask_liver_3D\")\n",
    "    mask_liver_3D = get_predict_mask_for_3Dimage( \n",
    "        model_liver, \n",
    "        image,\n",
    "        out_name='out'\n",
    "    ).astype(np.uint8)\n",
    "    \n",
    "    image = image/2+0.5 # 回复给肿瘤分割模型用\n",
    "    \n",
    "    # post-process for predicted liver mask\n",
    "    print(\"post-process for predicted liver mask\")\n",
    "    mask_liver_3D_post = get_post_process_liver_mask(mask_liver_3D)\n",
    "    \n",
    "    # get tumour mask\n",
    "    print(\"getting mask_lesion_3D\")\n",
    "    model_mode = '3D'\n",
    "    mask_lesion_3D,proba_lesion_3D = get_predict_lesion_mask_for_3Dimage(\n",
    "        model_lesion,\n",
    "        model_mode,\n",
    "        image, \n",
    "        mask_liver_3D_post,\n",
    "        out_name=None,\n",
    "        pt=0.5)\n",
    "    \n",
    "    # get resized liver mask\n",
    "    output_shape = (hmax-hmin+1, wmax-wmin+1, dmax-dmin+1)\n",
    "\n",
    "    # recover bounding for mask_liver\n",
    "    mask_liver = np.zeros_like(image_array)\n",
    "    mask_liver[hmin:hmax+1, wmin:wmax+1, dmin:dmax+1] = mask_liver_3D_post\n",
    "\n",
    "    # post-process lesion mask( (1)resize; (2)remove small connected domains )\n",
    "    print(\"post process lesion mask\")\n",
    "    mask_lesion_3D_post = get_post_processed_lesion_mask(\n",
    "        image,\n",
    "        proba_lesion_3D,\n",
    "        mask_liver_3D_post,\n",
    "        output_shape=None,\n",
    "        pt=0.5\n",
    "    )\n",
    "#     mask_lesion_3D_post = (proba_lesion_3D>0.5).astype(np.uint8)\n",
    "    # recover bounding for mask_lesion\n",
    "    mask_lesion = np.zeros_like(image_array)\n",
    "    mask_lesion[hmin:hmax+1, wmin:wmax+1, dmin:dmax+1] = mask_lesion_3D_post\n",
    "    \n",
    "    # combine liver and lesion mask\n",
    "    mask_3D = mask_liver.copy()\n",
    "    mask_3D[np.where(mask_lesion==1)] = 2\n",
    "    \n",
    "    # save as nrrd file\n",
    "    print(\"save as nrrd file\")\n",
    "    label_sitk, seg_sitk = save_mask_as_nrrd(\n",
    "        mask_3D,\n",
    "        num_classes=3,\n",
    "        image_sitk=image_sitk,\n",
    "        newsize=oldsize,\n",
    "        image_filepath=filepath,\n",
    "        save_path=os.path.join( save_path,sample_name ),\n",
    "        )"
   ]
  },
  {
   "cell_type": "code",
   "execution_count": null,
   "metadata": {},
   "outputs": [],
   "source": []
  }
 ],
 "metadata": {
  "kernelspec": {
   "display_name": "Python 3",
   "language": "python",
   "name": "python3"
  },
  "language_info": {
   "codemirror_mode": {
    "name": "ipython",
    "version": 3
   },
   "file_extension": ".py",
   "mimetype": "text/x-python",
   "name": "python",
   "nbconvert_exporter": "python",
   "pygments_lexer": "ipython3",
   "version": "3.8.5"
  }
 },
 "nbformat": 4,
 "nbformat_minor": 4
}
